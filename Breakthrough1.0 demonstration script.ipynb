{
 "cells": [
  {
   "cell_type": "markdown",
   "metadata": {},
   "source": [
    "# How to use this notebook"
   ]
  },
  {
   "cell_type": "markdown",
   "metadata": {},
   "source": [
    "This is a notebook explaining how to use the functions to analyse breakthrough data. There are also some code boxes. It is important that the import code box is run using the button in the bar above when the box is selected before any other code is run."
   ]
  },
  {
   "cell_type": "markdown",
   "metadata": {},
   "source": [
    "# Pre-requisites"
   ]
  },
  {
   "cell_type": "markdown",
   "metadata": {},
   "source": [
    "We need to make sure we have jupyter installed to run this notebook. Along with this, pandas, numpy, math, matplotlib, and scipy python packages are needed. If you have anaconda installed all of this will be already installed, so I recommend installing anaconda."
   ]
  },
  {
   "cell_type": "markdown",
   "metadata": {},
   "source": [
    "# File structure"
   ]
  },
  {
   "cell_type": "markdown",
   "metadata": {},
   "source": [
    "Firstly, we need to make sure we have breakthrough_analysis.py and any raw data files in the same folder as this notebook. Any subsequent processed data files and graphs will be saved to the same folder. One thing we do need to be careful of is making sure each file label is different, since the script will overwrite the data without warning you."
   ]
  },
  {
   "cell_type": "markdown",
   "metadata": {},
   "source": [
    "# Importing the functions for analysis"
   ]
  },
  {
   "cell_type": "markdown",
   "metadata": {},
   "source": [
    "Here the language is quite simple. We import all(asterisk) from the breakthrough_analysis.py file"
   ]
  },
  {
   "cell_type": "code",
   "execution_count": 3,
   "metadata": {},
   "outputs": [],
   "source": [
    "from breakthrough_analysis import*"
   ]
  },
  {
   "cell_type": "markdown",
   "metadata": {},
   "source": [
    "# Analysing raw breakthrough or regeneration data"
   ]
  },
  {
   "cell_type": "markdown",
   "metadata": {},
   "source": [
    "Below are some examples of some raw data analysis. Two functions appear: analyse_breakthrough() and analyse_regen(). The parameters you need to input are explained below:\n",
    "\n",
    "MS_csv =  the file name of the raw csv file obtained from the mass spectrometer\n",
    "\n",
    "flow_csv =  the file name of the raw txt file obtained from the flowview file\n",
    "\n",
    "ms_start = When the mass spectrometer starts recording in seconds\n",
    "\n",
    "flow_start = When the flow meter starts recording in seconds\n",
    "\n",
    "breakthrough_start/regen_start = When the adsorption or regen step is started in seconds\n",
    "\n",
    "breakthrough_start/regen_start = When the adsorption or regen step is started in seconds\n",
    "\n",
    "T_exp/T_regen = The temperature of the adsorption or regen in Kelvin\n",
    "\n",
    "Discount_He = If we set this to \"True\" it discounts the helium from the outlet calculations. We do this if we have a helium \n",
    "bypass. In my calculations I set it as \"False\" as I do not have a helium bypass, and I am interested in how long it takes for \n",
    "the helium to be removed from the reactor. For regen I think this would always be true. I removed this for the breakthrough function, it only applies to regen now.\n",
    "\n",
    "Low_conc_CO2 = If this is set as \"True\" we use the mass flow meter calibration for low flow rates (below 0.5 ml/min STP) and the relative sensitivity for low concentrations in the mass spectrometer. If set as \"False\" we use the mass flow meter calibration for normal flow rates (above 0.5 ml/min STP) and the relative sensitivity for higher concetrations of CO2.\n",
    "\n",
    "P_sat_H2O_bath = Saturation pressure of the water in the bath in pascals at the bath temperature. Set to 0 for a dry experiment.\n",
    "\n",
    "filter_window = A parameter used for smoothing. The number of points filtered across at a time.\n",
    "\n",
    "smoothing_start = Time in seconds on the breakthrough curve (not raw data time) to start smoothing from for each component we smooth. Here we can't smooth oxygen as it messes up a little. Can fix if we start using O2 in experiments. Recommend to start smoothing higher up the breakthrough curve\n",
    "\n",
    "spike_reduction = Sometimes in wet experiments we see spikes in the data, perhaps due to something like condensation, we can set this to True to try and remove these spikes or False if we don't really care\n",
    "\n",
    "spike_reduction_parameter = This is the value that the spike reduction bases its filtering from. If the normalised co2 flow goes above this value then we delete the row\n",
    "\n",
    "extra_normalisation = Default is False, but if we set to True then the Smoothed Normalised flow columns are renormalised with respect to final values of the normalised flow rather than the calculated inlet values. This can be useful if for example the water in the mass spec causes a lower signal of CO2 than expected, so in this case the curve would be shifted upwards.\n",
    "\n",
    "relative_sensitivities = Set this to \"relative_sensitivities = 'Default'\" to just use the default mass spec relative sensitivities. Or use a dictionary to define your own i.e. \"relative_sensitivities = {'N2':1, 'He':1.92, 'CO2':0.021, 'O2':0.98, 'H2O':0.0157}\"\n",
    "\n",
    "backgrounds = Set this to \"backgrounds = 'Default'\" to just use the default background values, or set a dictionary like with the relative sentivities\n",
    "\n",
    "zero_backgrounds = A dictionary of components that is either True or False depending on whether we want to take the initial value as the background\n",
    "\n",
    "full_output = Set this to True if we want all the raw data and intermediate calculated values in the output too.\n",
    "\n",
    "plot_smoothing = Generates a plot if set to True that compares raw and smoothed data. Smoothed is lines while smoothed is markers\n",
    "\n",
    "filelabel = File name for the output csv file.\n",
    "\n",
    "The functions then outputs a csv file for the given file name of the processed data. Its best if this is studied to understand what the function outputs\n"
   ]
  },
  {
   "cell_type": "code",
   "execution_count": 2,
   "metadata": {},
   "outputs": [
    {
     "name": "stderr",
     "output_type": "stream",
     "text": [
      "C:\\Users\\johny\\anaconda3\\lib\\site-packages\\pandas\\core\\indexing.py:670: SettingWithCopyWarning: \n",
      "A value is trying to be set on a copy of a slice from a DataFrame\n",
      "\n",
      "See the caveats in the documentation: https://pandas.pydata.org/pandas-docs/stable/user_guide/indexing.html#returning-a-view-versus-a-copy\n",
      "  iloc._setitem_with_indexer(indexer, value)\n",
      "C:\\Users\\johny\\OneDrive - Heriot-Watt University\\Python_dir\\Breakthrough analysis\\breakthrough_analysis.py:110: SettingWithCopyWarning: \n",
      "A value is trying to be set on a copy of a slice from a DataFrame\n",
      "\n",
      "See the caveats in the documentation: https://pandas.pydata.org/pandas-docs/stable/user_guide/indexing.html#returning-a-view-versus-a-copy\n",
      "  df_breakthrough.sort_values('Breakthrough time [s]', inplace=True)\n",
      "C:\\Users\\johny\\anaconda3\\lib\\site-packages\\pandas\\core\\frame.py:4163: SettingWithCopyWarning: \n",
      "A value is trying to be set on a copy of a slice from a DataFrame\n",
      "\n",
      "See the caveats in the documentation: https://pandas.pydata.org/pandas-docs/stable/user_guide/indexing.html#returning-a-view-versus-a-copy\n",
      "  return super().drop(\n",
      "C:\\Users\\johny\\anaconda3\\lib\\site-packages\\pandas\\core\\indexing.py:1596: SettingWithCopyWarning: \n",
      "A value is trying to be set on a copy of a slice from a DataFrame.\n",
      "Try using .loc[row_indexer,col_indexer] = value instead\n",
      "\n",
      "See the caveats in the documentation: https://pandas.pydata.org/pandas-docs/stable/user_guide/indexing.html#returning-a-view-versus-a-copy\n",
      "  self.obj[key] = _infer_fill_value(value)\n",
      "C:\\Users\\johny\\anaconda3\\lib\\site-packages\\pandas\\core\\indexing.py:1783: SettingWithCopyWarning: \n",
      "A value is trying to be set on a copy of a slice from a DataFrame.\n",
      "Try using .loc[row_indexer,col_indexer] = value instead\n",
      "\n",
      "See the caveats in the documentation: https://pandas.pydata.org/pandas-docs/stable/user_guide/indexing.html#returning-a-view-versus-a-copy\n",
      "  self.obj[item_labels[indexer[info_axis]]] = value\n",
      "C:\\Users\\johny\\anaconda3\\lib\\site-packages\\pandas\\core\\indexing.py:1745: SettingWithCopyWarning: \n",
      "A value is trying to be set on a copy of a slice from a DataFrame.\n",
      "Try using .loc[row_indexer,col_indexer] = value instead\n",
      "\n",
      "See the caveats in the documentation: https://pandas.pydata.org/pandas-docs/stable/user_guide/indexing.html#returning-a-view-versus-a-copy\n",
      "  isetter(ilocs[0], value)\n",
      "C:\\Users\\johny\\OneDrive - Heriot-Watt University\\Python_dir\\Breakthrough analysis\\breakthrough_analysis.py:177: RuntimeWarning: invalid value encountered in double_scalars\n",
      "  df_breakthrough.loc[:,new_label] = pd.Series([df_breakthrough[label][i] / df_breakthrough['Total molar flow [mol/s]'][i]  for i in range(len(df_breakthrough['Breakthrough time [s]']))], index=df_breakthrough.index)\n",
      "C:\\Users\\johny\\OneDrive - Heriot-Watt University\\Python_dir\\Breakthrough analysis\\breakthrough_analysis.py:214: RuntimeWarning: divide by zero encountered in double_scalars\n",
      "  df_breakthrough.loc[:,new_label] = pd.Series([df_breakthrough[outlet_label][i]/df_breakthrough[inlet_label][i] for i in range(len(df_breakthrough['Breakthrough time [s]']))], index=df_breakthrough.index)\n",
      "C:\\Users\\johny\\OneDrive - Heriot-Watt University\\Python_dir\\Breakthrough analysis\\breakthrough_analysis.py:214: RuntimeWarning: invalid value encountered in double_scalars\n",
      "  df_breakthrough.loc[:,new_label] = pd.Series([df_breakthrough[outlet_label][i]/df_breakthrough[inlet_label][i] for i in range(len(df_breakthrough['Breakthrough time [s]']))], index=df_breakthrough.index)\n",
      "C:\\Users\\johny\\OneDrive - Heriot-Watt University\\Python_dir\\Breakthrough analysis\\breakthrough_analysis.py:220: RuntimeWarning: divide by zero encountered in double_scalars\n",
      "  df_breakthrough.loc[:,new_label] = pd.Series([df_breakthrough[outlet_label][i]/df_breakthrough[inlet_label][i] for i in range(len(df_breakthrough['CO2 mole fraction [-]']))], index=df_breakthrough.index)\n",
      "C:\\Users\\johny\\OneDrive - Heriot-Watt University\\Python_dir\\Breakthrough analysis\\breakthrough_analysis.py:220: RuntimeWarning: invalid value encountered in double_scalars\n",
      "  df_breakthrough.loc[:,new_label] = pd.Series([df_breakthrough[outlet_label][i]/df_breakthrough[inlet_label][i] for i in range(len(df_breakthrough['CO2 mole fraction [-]']))], index=df_breakthrough.index)\n",
      "C:\\Users\\johny\\OneDrive - Heriot-Watt University\\Python_dir\\Breakthrough analysis\\breakthrough_analysis.py:226: RuntimeWarning: invalid value encountered in double_scalars\n",
      "  df_breakthrough.loc[:,new_label] = pd.Series([df_breakthrough[outlet_label][i]/df_breakthrough[inlet_label][i] for i in range(len(df_breakthrough['CO2 mole fraction [-]']))], index=df_breakthrough.index)\n",
      "C:\\Users\\johny\\OneDrive - Heriot-Watt University\\Python_dir\\Breakthrough analysis\\breakthrough_analysis.py:226: RuntimeWarning: divide by zero encountered in double_scalars\n",
      "  df_breakthrough.loc[:,new_label] = pd.Series([df_breakthrough[outlet_label][i]/df_breakthrough[inlet_label][i] for i in range(len(df_breakthrough['CO2 mole fraction [-]']))], index=df_breakthrough.index)\n"
     ]
    },
    {
     "data": {
      "image/png": "[encoded data removed]",
      "text/plain": [
       "<Figure size 576x360 with 1 Axes>"
      ]
     },
     "metadata": {
      "needs_background": "light"
     },
     "output_type": "display_data"
    },
    {
     "name": "stderr",
     "output_type": "stream",
     "text": [
      "C:\\Users\\johny\\anaconda3\\lib\\site-packages\\pandas\\core\\indexing.py:670: SettingWithCopyWarning: \n",
      "A value is trying to be set on a copy of a slice from a DataFrame\n",
      "\n",
      "See the caveats in the documentation: https://pandas.pydata.org/pandas-docs/stable/user_guide/indexing.html#returning-a-view-versus-a-copy\n",
      "  iloc._setitem_with_indexer(indexer, value)\n",
      "C:\\Users\\johny\\OneDrive - Heriot-Watt University\\Python_dir\\Breakthrough analysis\\breakthrough_analysis.py:110: SettingWithCopyWarning: \n",
      "A value is trying to be set on a copy of a slice from a DataFrame\n",
      "\n",
      "See the caveats in the documentation: https://pandas.pydata.org/pandas-docs/stable/user_guide/indexing.html#returning-a-view-versus-a-copy\n",
      "  df_breakthrough.sort_values('Breakthrough time [s]', inplace=True)\n",
      "C:\\Users\\johny\\anaconda3\\lib\\site-packages\\pandas\\core\\frame.py:4163: SettingWithCopyWarning: \n",
      "A value is trying to be set on a copy of a slice from a DataFrame\n",
      "\n",
      "See the caveats in the documentation: https://pandas.pydata.org/pandas-docs/stable/user_guide/indexing.html#returning-a-view-versus-a-copy\n",
      "  return super().drop(\n",
      "C:\\Users\\johny\\anaconda3\\lib\\site-packages\\pandas\\core\\indexing.py:1596: SettingWithCopyWarning: \n",
      "A value is trying to be set on a copy of a slice from a DataFrame.\n",
      "Try using .loc[row_indexer,col_indexer] = value instead\n",
      "\n",
      "See the caveats in the documentation: https://pandas.pydata.org/pandas-docs/stable/user_guide/indexing.html#returning-a-view-versus-a-copy\n",
      "  self.obj[key] = _infer_fill_value(value)\n",
      "C:\\Users\\johny\\anaconda3\\lib\\site-packages\\pandas\\core\\indexing.py:1783: SettingWithCopyWarning: \n",
      "A value is trying to be set on a copy of a slice from a DataFrame.\n",
      "Try using .loc[row_indexer,col_indexer] = value instead\n",
      "\n",
      "See the caveats in the documentation: https://pandas.pydata.org/pandas-docs/stable/user_guide/indexing.html#returning-a-view-versus-a-copy\n",
      "  self.obj[item_labels[indexer[info_axis]]] = value\n",
      "C:\\Users\\johny\\OneDrive - Heriot-Watt University\\Python_dir\\Breakthrough analysis\\breakthrough_analysis.py:177: RuntimeWarning: invalid value encountered in double_scalars\n",
      "  df_breakthrough.loc[:,new_label] = pd.Series([df_breakthrough[label][i] / df_breakthrough['Total molar flow [mol/s]'][i]  for i in range(len(df_breakthrough['Breakthrough time [s]']))], index=df_breakthrough.index)\n",
      "C:\\Users\\johny\\anaconda3\\lib\\site-packages\\pandas\\core\\indexing.py:1745: SettingWithCopyWarning: \n",
      "A value is trying to be set on a copy of a slice from a DataFrame.\n",
      "Try using .loc[row_indexer,col_indexer] = value instead\n",
      "\n",
      "See the caveats in the documentation: https://pandas.pydata.org/pandas-docs/stable/user_guide/indexing.html#returning-a-view-versus-a-copy\n",
      "  isetter(ilocs[0], value)\n",
      "C:\\Users\\johny\\OneDrive - Heriot-Watt University\\Python_dir\\Breakthrough analysis\\breakthrough_analysis.py:214: RuntimeWarning: invalid value encountered in double_scalars\n",
      "  df_breakthrough.loc[:,new_label] = pd.Series([df_breakthrough[outlet_label][i]/df_breakthrough[inlet_label][i] for i in range(len(df_breakthrough['Breakthrough time [s]']))], index=df_breakthrough.index)\n",
      "C:\\Users\\johny\\OneDrive - Heriot-Watt University\\Python_dir\\Breakthrough analysis\\breakthrough_analysis.py:214: RuntimeWarning: divide by zero encountered in double_scalars\n",
      "  df_breakthrough.loc[:,new_label] = pd.Series([df_breakthrough[outlet_label][i]/df_breakthrough[inlet_label][i] for i in range(len(df_breakthrough['Breakthrough time [s]']))], index=df_breakthrough.index)\n",
      "C:\\Users\\johny\\OneDrive - Heriot-Watt University\\Python_dir\\Breakthrough analysis\\breakthrough_analysis.py:220: RuntimeWarning: invalid value encountered in double_scalars\n",
      "  df_breakthrough.loc[:,new_label] = pd.Series([df_breakthrough[outlet_label][i]/df_breakthrough[inlet_label][i] for i in range(len(df_breakthrough['CO2 mole fraction [-]']))], index=df_breakthrough.index)\n",
      "C:\\Users\\johny\\OneDrive - Heriot-Watt University\\Python_dir\\Breakthrough analysis\\breakthrough_analysis.py:220: RuntimeWarning: divide by zero encountered in double_scalars\n",
      "  df_breakthrough.loc[:,new_label] = pd.Series([df_breakthrough[outlet_label][i]/df_breakthrough[inlet_label][i] for i in range(len(df_breakthrough['CO2 mole fraction [-]']))], index=df_breakthrough.index)\n",
      "C:\\Users\\johny\\OneDrive - Heriot-Watt University\\Python_dir\\Breakthrough analysis\\breakthrough_analysis.py:226: RuntimeWarning: invalid value encountered in double_scalars\n",
      "  df_breakthrough.loc[:,new_label] = pd.Series([df_breakthrough[outlet_label][i]/df_breakthrough[inlet_label][i] for i in range(len(df_breakthrough['CO2 mole fraction [-]']))], index=df_breakthrough.index)\n",
      "C:\\Users\\johny\\OneDrive - Heriot-Watt University\\Python_dir\\Breakthrough analysis\\breakthrough_analysis.py:226: RuntimeWarning: divide by zero encountered in double_scalars\n",
      "  df_breakthrough.loc[:,new_label] = pd.Series([df_breakthrough[outlet_label][i]/df_breakthrough[inlet_label][i] for i in range(len(df_breakthrough['CO2 mole fraction [-]']))], index=df_breakthrough.index)\n",
      "C:\\Users\\johny\\OneDrive - Heriot-Watt University\\Python_dir\\Breakthrough analysis\\breakthrough_analysis.py:286: RuntimeWarning: invalid value encountered in double_scalars\n",
      "  series = pd.Series([i/df_breakthrough_out[label].iloc[-1] for i in df_breakthrough_out[label]], index=df_breakthrough_out.index)\n",
      "C:\\Users\\johny\\anaconda3\\lib\\site-packages\\pandas\\core\\indexing.py:670: SettingWithCopyWarning: \n",
      "A value is trying to be set on a copy of a slice from a DataFrame\n",
      "\n",
      "See the caveats in the documentation: https://pandas.pydata.org/pandas-docs/stable/user_guide/indexing.html#returning-a-view-versus-a-copy\n",
      "  iloc._setitem_with_indexer(indexer, value)\n",
      "C:\\Users\\johny\\OneDrive - Heriot-Watt University\\Python_dir\\Breakthrough analysis\\breakthrough_analysis.py:447: SettingWithCopyWarning: \n",
      "A value is trying to be set on a copy of a slice from a DataFrame\n",
      "\n",
      "See the caveats in the documentation: https://pandas.pydata.org/pandas-docs/stable/user_guide/indexing.html#returning-a-view-versus-a-copy\n",
      "  df_breakthrough.sort_values('Breakthrough time [s]', inplace=True)\n",
      "C:\\Users\\johny\\anaconda3\\lib\\site-packages\\pandas\\core\\frame.py:4163: SettingWithCopyWarning: \n",
      "A value is trying to be set on a copy of a slice from a DataFrame\n",
      "\n",
      "See the caveats in the documentation: https://pandas.pydata.org/pandas-docs/stable/user_guide/indexing.html#returning-a-view-versus-a-copy\n",
      "  return super().drop(\n",
      "C:\\Users\\johny\\anaconda3\\lib\\site-packages\\pandas\\core\\indexing.py:1596: SettingWithCopyWarning: \n",
      "A value is trying to be set on a copy of a slice from a DataFrame.\n",
      "Try using .loc[row_indexer,col_indexer] = value instead\n",
      "\n",
      "See the caveats in the documentation: https://pandas.pydata.org/pandas-docs/stable/user_guide/indexing.html#returning-a-view-versus-a-copy\n",
      "  self.obj[key] = _infer_fill_value(value)\n",
      "C:\\Users\\johny\\anaconda3\\lib\\site-packages\\pandas\\core\\indexing.py:1783: SettingWithCopyWarning: \n",
      "A value is trying to be set on a copy of a slice from a DataFrame.\n",
      "Try using .loc[row_indexer,col_indexer] = value instead\n",
      "\n",
      "See the caveats in the documentation: https://pandas.pydata.org/pandas-docs/stable/user_guide/indexing.html#returning-a-view-versus-a-copy\n",
      "  self.obj[item_labels[indexer[info_axis]]] = value\n",
      "C:\\Users\\johny\\OneDrive - Heriot-Watt University\\Python_dir\\Breakthrough analysis\\breakthrough_analysis.py:520: RuntimeWarning: invalid value encountered in double_scalars\n",
      "  df_breakthrough.loc[:,new_label] = pd.Series([df_breakthrough[label][i] / df_breakthrough['Total molar flow [mol/s]'][i]  for i in range(len(df_breakthrough['Breakthrough time [s]']))], index=df_breakthrough.index)\n",
      "C:\\Users\\johny\\anaconda3\\lib\\site-packages\\pandas\\core\\indexing.py:1745: SettingWithCopyWarning: \n",
      "A value is trying to be set on a copy of a slice from a DataFrame.\n",
      "Try using .loc[row_indexer,col_indexer] = value instead\n",
      "\n",
      "See the caveats in the documentation: https://pandas.pydata.org/pandas-docs/stable/user_guide/indexing.html#returning-a-view-versus-a-copy\n",
      "  isetter(ilocs[0], value)\n",
      "C:\\Users\\johny\\OneDrive - Heriot-Watt University\\Python_dir\\Breakthrough analysis\\breakthrough_analysis.py:545: RuntimeWarning: invalid value encountered in double_scalars\n",
      "  mole_frac_list.append(df_breakthrough[label][i]/total)\n",
      "C:\\Users\\johny\\OneDrive - Heriot-Watt University\\Python_dir\\Breakthrough analysis\\breakthrough_analysis.py:545: RuntimeWarning: invalid value encountered in true_divide\n",
      "  mole_frac_list.append(df_breakthrough[label][i]/total)\n"
     ]
    }
   ],
   "source": [
    "analyse_breakthrough(MS_csv = '25C_dry_MS.csv', #MS raw data file\n",
    "flow_csv = '25C_dry_flow.txt', #Coriolis raw data file\n",
    "ms_start = 0,  #MS start time\n",
    "flow_start = 30, #Coriolis start time \n",
    "breakthrough_start = 9720, #Adsorption start time\n",
    "breakthrough_end = 999999999, #Breakthrough end time (If we don't have another step after we can just set to really high value like here)\n",
    "T_exp = 298.15, #Temperature of the experiment\n",
    "Low_conc_CO2 = True, #True for fluid 2 in the co2 MFC and low conc relative sensitivities. False for fluid 1 in the co2 MFC and high conc relative sensivities\n",
    "P_sat_H2O_bath = 0, #Saturation pressure [Pa] of the water in the bubbler\n",
    "filter_window = 15, #Smoothing moving average window size\n",
    "smoothing_start = {'CO2':0, 'N2': 500, 'He':2000, 'H2O':2000}, #What time in seconds to start smoothing each component\n",
    "spike_reduction = True, #Removes any rows where the normalised co2 flow exceeds the spike_reduction_parameter\n",
    "spike_reduction_parameter = 1.1, #see above\n",
    "extra_normalisation = False, #If True then renormalise the smoothed normalised flow values to be with respect to the final normalised flow value\n",
    "relative_sensitivities = {'N2':1, 'He':1.92, 'CO2':0.021, 'O2':0.98, 'H2O':0.0157}, #Or 'Default' for default\n",
    "backgrounds = {'N2':3.78E-9, 'He':1.44E-8, 'CO2':4.16E-11, 'O2':1.86E-10, 'H2O':3.50E-11}, #Or 'Default' for default\n",
    "zero_backgrounds = {'N2':True, 'He':False, 'CO2':True, 'O2':True, 'H2O':True}, #Take the initial MS value as background to overide the backgrounds given\n",
    "full_output = True, #If set to True the output csv will also contain raw data and intermediate calculated values\n",
    "plot_smoothing = True, #If set to True it will generate a plot comparing the raw and smoothed values for adjustment\n",
    "filelabel = '25C_dry_processed') #Name of the outputted csv\n",
    "\n",
    "analyse_breakthrough(MS_csv = '25C_dry_blank_MS.csv',\n",
    "flow_csv = '25C_dry_blank_flow.txt',\n",
    "ms_start = 0, \n",
    "flow_start = 30, \n",
    "breakthrough_start = 9210, \n",
    "breakthrough_end = 999999999, \n",
    "T_exp = 298.15, \n",
    "Low_conc_CO2 = True,\n",
    "P_sat_H2O_bath = 0, \n",
    "filter_window = 15, \n",
    "smoothing_start = {'CO2':750, 'N2': 750, 'He':750, 'H2O':750},\n",
    "spike_reduction = True,\n",
    "spike_reduction_parameter = 1.1,\n",
    "extra_normalisation = True,\n",
    "relative_sensitivities = 'Default',\n",
    "backgrounds = 'Default',\n",
    "zero_backgrounds = {'N2':True, 'He':False, 'CO2':True, 'O2':True, 'H2O':True}, \n",
    "full_output = False,\n",
    "filelabel = '25C_dry_blank_processed')\n",
    "\n",
    "analyse_regen(MS_csv = '25C_dry_MS.csv',\n",
    "flow_csv = '25C_dry_flow.txt',\n",
    "ms_start = 0, \n",
    "flow_start = 30, \n",
    "regen_start = 4440, \n",
    "regen_end = 6450, \n",
    "T_regen = 373.15, \n",
    "Discount_He = True,\n",
    "Low_conc_CO2 = True,\n",
    "P_sat_H2O_bath = 0, \n",
    "filter_window = 15, \n",
    "smoothing_start = {'CO2':1100, 'N2': 500, 'He':2000, 'H2O':2000},\n",
    "relative_sensitivities = {'N2':1, 'He':1.92, 'CO2':0.021, 'O2':0.98, 'H2O':0.0157},\n",
    "backgrounds = 'Default',\n",
    "full_output = False,\n",
    "filelabel = '25C_dry_regen_processed')\n",
    "\n"
   ]
  },
  {
   "cell_type": "markdown",
   "metadata": {},
   "source": [
    "# Calculation of loading"
   ]
  },
  {
   "cell_type": "markdown",
   "metadata": {},
   "source": [
    "The loading is calculated using the loading() function. This is returned as two dictionaries, called loads and vol_loads in the code below. loads is the loadings in mmol/g whilst vol_loads return the loading in mmol/m3pellet. These dictionaries contain the loading for each component. To extract the loading for a specific component we can call that via typing loads['CO2'] or loads['N2'] or loads['H2O'] etc. And then we can print the result by putting this inside the print() function. \n",
    "\n",
    "The inputs of the function are explained below:\n",
    "\n",
    "processed_data = This is simply one of the csv files we generated above. (Don't forget the .csv)\n",
    "\n",
    "regen_data = If we want to calculate the loading in a regeneration, we can enter this file created here. Alternatively put 'none' if we don't have this.\n",
    "\n",
    "bed_length =  The length of the bed in metres\n",
    "\n",
    "bed_porosity = The porosity of the bed. A common assumption is 0.4, but if more knowledge is available use that.\n",
    "\n",
    "bed_diameter = The diameter of the bed in metres. I measured this to be 0.7cm, but feel free to change this if a more accurate measurement is available or the column is different.\n",
    "\n",
    "bed_mass = mass of the adsorbent in the bed in kilograms. For blank this should be the same mass as the actual experiment\n",
    "\n",
    "T_exp =  Temperature of the experiment in Kelvin.\n",
    "\n",
    "integration_end = The end time of integration in seconds\n",
    "\n",
    "mode = This is the mode for the calculation. Here if 'breakthrough' is entered it calculates the loading for a breakthrough experiment. Conversely, 'regeneration' can be used. \n",
    "\n",
    "Below there are examples of this for a breakthrough and a blank. Then below we print the difference between the two, as the real loading. \n",
    "\n",
    "The reference used for the loading calculation is Wilkins et al. 2020."
   ]
  },
  {
   "cell_type": "code",
   "execution_count": 16,
   "metadata": {},
   "outputs": [
    {
     "name": "stdout",
     "output_type": "stream",
     "text": [
      "The CO2 loading is 1.8578047918573404 mmol/g\n"
     ]
    },
    {
     "name": "stderr",
     "output_type": "stream",
     "text": [
      "C:\\Users\\johny\\anaconda3\\lib\\site-packages\\pandas\\core\\indexing.py:1596: SettingWithCopyWarning: \n",
      "A value is trying to be set on a copy of a slice from a DataFrame.\n",
      "Try using .loc[row_indexer,col_indexer] = value instead\n",
      "\n",
      "See the caveats in the documentation: https://pandas.pydata.org/pandas-docs/stable/user_guide/indexing.html#returning-a-view-versus-a-copy\n",
      "  self.obj[key] = _infer_fill_value(value)\n",
      "C:\\Users\\johny\\anaconda3\\lib\\site-packages\\pandas\\core\\indexing.py:1745: SettingWithCopyWarning: \n",
      "A value is trying to be set on a copy of a slice from a DataFrame.\n",
      "Try using .loc[row_indexer,col_indexer] = value instead\n",
      "\n",
      "See the caveats in the documentation: https://pandas.pydata.org/pandas-docs/stable/user_guide/indexing.html#returning-a-view-versus-a-copy\n",
      "  isetter(ilocs[0], value)\n",
      "C:\\Users\\johny\\anaconda3\\lib\\site-packages\\pandas\\core\\indexing.py:1596: SettingWithCopyWarning: \n",
      "A value is trying to be set on a copy of a slice from a DataFrame.\n",
      "Try using .loc[row_indexer,col_indexer] = value instead\n",
      "\n",
      "See the caveats in the documentation: https://pandas.pydata.org/pandas-docs/stable/user_guide/indexing.html#returning-a-view-versus-a-copy\n",
      "  self.obj[key] = _infer_fill_value(value)\n",
      "C:\\Users\\johny\\anaconda3\\lib\\site-packages\\pandas\\core\\indexing.py:1745: SettingWithCopyWarning: \n",
      "A value is trying to be set on a copy of a slice from a DataFrame.\n",
      "Try using .loc[row_indexer,col_indexer] = value instead\n",
      "\n",
      "See the caveats in the documentation: https://pandas.pydata.org/pandas-docs/stable/user_guide/indexing.html#returning-a-view-versus-a-copy\n",
      "  isetter(ilocs[0], value)\n"
     ]
    }
   ],
   "source": [
    "loads, vol_loads = loading(processed_data='25C_dry_processed.csv',\n",
    "regen_data = '25C_dry_regen_processed.csv',\n",
    "bed_length = 0.008, \n",
    "bed_porosity = 0.4, \n",
    "bed_diameter = 0.007, \n",
    "bed_mass = 206.28E-6, \n",
    "T_exp = 298.15, \n",
    "integration_end = 2700, \n",
    "mode = 'breakthrough')\n",
    "\n",
    "loads_blank, vol_loads_blank = loading(processed_data = '25C_dry_blank_processed.csv',\n",
    "regen_data = 'None',\n",
    "bed_length = 0.008, \n",
    "bed_porosity = 0.4, \n",
    "bed_diameter = 0.007, \n",
    "bed_mass = 206.28E-6, \n",
    "T_exp = 298.15, \n",
    "integration_end = 1000, \n",
    "mode = 'breakthrough')\n",
    "\n",
    "print('The CO2 loading is '+ str(loads['CO2'] - loads_blank['CO2']) +' mmol/g' )\n"
   ]
  },
  {
   "cell_type": "markdown",
   "metadata": {},
   "source": [
    "I also defined a new function called loadingcustom. This gives more freedom as to which graph is integrated. However it only returns the loading of the specified component rather than a dictionary of all components. The extra parameters here are columnlabel, which is simply the csv column we want to integrate such (1 - column)dt, and component which is just the component we want to calculate for. An example of the use of this is shown below:"
   ]
  },
  {
   "cell_type": "code",
   "execution_count": 13,
   "metadata": {},
   "outputs": [
    {
     "name": "stdout",
     "output_type": "stream",
     "text": [
      "The CO2 loading at 25C is 1.6478284796222085 mmol/g\n"
     ]
    },
    {
     "name": "stderr",
     "output_type": "stream",
     "text": [
      "C:\\Users\\johny\\anaconda3\\lib\\site-packages\\pandas\\core\\indexing.py:1596: SettingWithCopyWarning: \n",
      "A value is trying to be set on a copy of a slice from a DataFrame.\n",
      "Try using .loc[row_indexer,col_indexer] = value instead\n",
      "\n",
      "See the caveats in the documentation: https://pandas.pydata.org/pandas-docs/stable/user_guide/indexing.html#returning-a-view-versus-a-copy\n",
      "  self.obj[key] = _infer_fill_value(value)\n",
      "C:\\Users\\johny\\anaconda3\\lib\\site-packages\\pandas\\core\\indexing.py:1745: SettingWithCopyWarning: \n",
      "A value is trying to be set on a copy of a slice from a DataFrame.\n",
      "Try using .loc[row_indexer,col_indexer] = value instead\n",
      "\n",
      "See the caveats in the documentation: https://pandas.pydata.org/pandas-docs/stable/user_guide/indexing.html#returning-a-view-versus-a-copy\n",
      "  isetter(ilocs[0], value)\n"
     ]
    }
   ],
   "source": [
    "loads25, vol_loads = loadingcustom(processed_data='25C_dry_processed.csv',\n",
    "regen_data = '25C_dry_regen_processed.csv',\n",
    "bed_length = 0.008, \n",
    "bed_porosity = 0.4, \n",
    "bed_diameter = 0.007, \n",
    "bed_mass = 196.6E-6,\n",
    "T_exp = 298.15, \n",
    "integration_end = 2700, \n",
    "mode = 'breakthrough',\n",
    "columnlabel = 'Smoothed Normalised CO2 molar flow [mol/s]',\n",
    "component = 'CO2')\n",
    "\n",
    "loads_blank25, vol_loads_blank = loadingcustom(processed_data = '25C_dry_blank_processed.csv',\n",
    "regen_data = 'None',\n",
    "bed_length = 0.008, \n",
    "bed_porosity = 0.4, \n",
    "bed_diameter = 0.007, \n",
    "bed_mass = 206.28E-6, \n",
    "T_exp = 298.15, \n",
    "integration_end = 1000, \n",
    "mode = 'breakthrough',\n",
    "columnlabel = 'Smoothed Normalised CO2 molar flow [mol/s]',\n",
    "component = 'CO2')\n",
    "\n",
    "print('The CO2 loading at 25C is '+ str(loads25 - loads_blank25) +' mmol/g' )"
   ]
  },
  {
   "cell_type": "markdown",
   "metadata": {},
   "source": [
    "# Quickly plotting the data"
   ]
  },
  {
   "cell_type": "markdown",
   "metadata": {},
   "source": [
    "Below is an example of a function made to quickly plot the data. This was made quite quickly, so isn't perfect aesthetically, but is usual for quickly generating plots. Below is an explanation of each input:\n",
    "\n",
    "data = Here is a list of all the processed data files we want to plot onto one graph.\n",
    "\n",
    "data_labels = Here is the correspoding labels we want in the legend for the data above\n",
    "\n",
    "variable = This is the variable we want plot. The options are: 'mole fraction [-]', 'molar flow [mol/s]', or 'concentration [mol/m3]'\n",
    "\n",
    "Normalised = True for normalised data, False for absolute data.\n",
    "\n",
    "Smoothed = True for smoothed data, False for absolute data.\n",
    "\n",
    "Save = True to save the picture, False just to show it in the notebook.\n",
    "\n",
    "filelabel = What the file will be called when saved."
   ]
  },
  {
   "cell_type": "code",
   "execution_count": 15,
   "metadata": {},
   "outputs": [
    {
     "data": {
      "image/png": "[encoded data removed]",
      "text/plain": [
       "<Figure size 576x360 with 1 Axes>"
      ]
     },
     "metadata": {
      "needs_background": "light"
     },
     "output_type": "display_data"
    },
    {
     "data": {
      "image/png": "[encoded data removed]",
      "text/plain": [
       "<Figure size 576x360 with 1 Axes>"
      ]
     },
     "metadata": {
      "needs_background": "light"
     },
     "output_type": "display_data"
    }
   ],
   "source": [
    "fig, ax = quickplot(data = ['25C_dry_processed.csv', '25C_dry_blank_processed.csv'],\n",
    "data_labels = ['25$^o$C', '25$^o$C blank'],\n",
    "components = ['CO2', 'N2'],\n",
    "variable = 'molar flow [mol/s]', #concentration [mol/m3], molar flow [mol/s], mole fraction [-]\n",
    "Normalised = True,\n",
    "Smoothed = False,\n",
    "Save = True,\n",
    "filelabel='25C plot')\n",
    "\n",
    "\n",
    "fig, ax = quickplot(data = ['25C_dry_processed.csv', '25C_dry_blank_processed.csv'],\n",
    "data_labels = ['25$^o$C', '25$^o$C blank'],\n",
    "components = ['CO2', 'N2'],\n",
    "variable = 'molar flow [mol/s]', #concentration [mol/m3], molar flow [mol/s], mole fraction [-]\n",
    "Normalised = True,\n",
    "Smoothed = True,\n",
    "Save = True,\n",
    "filelabel='25C plot')\n",
    "\n"
   ]
  },
  {
   "cell_type": "markdown",
   "metadata": {},
   "source": [
    "We can then access the figures by calling the variables fig and ax we created above to manipulate them according to the general matplotlib functions. The example below shows us changing the x-axis limit, but there are many things (like changing fonts, plot area, axes ticks, axes labels, chart title etc.) we can do, all of which can be found in the matplotlib user guide at: https://matplotlib.org/3.3.3/users/index.html Note that to view this figure now we need to open the saved file, in this case test.png."
   ]
  },
  {
   "cell_type": "code",
   "execution_count": null,
   "metadata": {},
   "outputs": [],
   "source": [
    "ax.set_xlim(0,3000)\n",
    "plt.show()\n",
    "fig.savefig('test.png', dpi=300, transparent=True, bbox_inches='tight')"
   ]
  },
  {
   "cell_type": "markdown",
   "metadata": {},
   "source": [
    "## Raw data extraction \n",
    "\n",
    "Below is an example of how we extract the raw data from the coriolis and mass spectrometer for the breakthrough part of the experiment"
   ]
  },
  {
   "cell_type": "code",
   "execution_count": 7,
   "metadata": {},
   "outputs": [
    {
     "name": "stderr",
     "output_type": "stream",
     "text": [
      "C:\\Users\\johny\\anaconda3\\lib\\site-packages\\pandas\\core\\indexing.py:670: SettingWithCopyWarning: \n",
      "A value is trying to be set on a copy of a slice from a DataFrame\n",
      "\n",
      "See the caveats in the documentation: https://pandas.pydata.org/pandas-docs/stable/user_guide/indexing.html#returning-a-view-versus-a-copy\n",
      "  iloc._setitem_with_indexer(indexer, value)\n",
      "C:\\Users\\johny\\OneDrive - Heriot-Watt University\\Python_dir\\Breakthrough analysis\\breakthrough_analysis.py:1018: SettingWithCopyWarning: \n",
      "A value is trying to be set on a copy of a slice from a DataFrame\n",
      "\n",
      "See the caveats in the documentation: https://pandas.pydata.org/pandas-docs/stable/user_guide/indexing.html#returning-a-view-versus-a-copy\n",
      "  df_breakthrough.sort_values('Breakthrough time [s]', inplace=True)\n",
      "C:\\Users\\johny\\anaconda3\\lib\\site-packages\\pandas\\core\\frame.py:4163: SettingWithCopyWarning: \n",
      "A value is trying to be set on a copy of a slice from a DataFrame\n",
      "\n",
      "See the caveats in the documentation: https://pandas.pydata.org/pandas-docs/stable/user_guide/indexing.html#returning-a-view-versus-a-copy\n",
      "  return super().drop(\n"
     ]
    }
   ],
   "source": [
    "raw_data(MS_csv = '25C_dry_MS.csv',\n",
    "flow_csv = '25C_dry_flow.txt',\n",
    "ms_start = 0, \n",
    "flow_start = 30, \n",
    "breakthrough_start = 9720, \n",
    "breakthrough_end = 999999999, \n",
    "T_exp = 298.15, \n",
    "Low_conc_CO2 = True,\n",
    "P_sat_H2O_bath = 0, \n",
    "extra_normalisation = True,\n",
    "relative_sensitivities = 'Default',\n",
    "filelabel = '25C_dry_raw')\n"
   ]
  },
  {
   "cell_type": "markdown",
   "metadata": {},
   "source": [
    "General Thoughts:\n",
    "\n",
    "Now I am familiar the notebook is much clearer: Simply runs the functions to get processed data and goes through loading calculations\n",
    "\n",
    "What I need to think about is how to reduce the amount of stuff you need to enter - certain things like background however can of course be changed but make it so that if it needs changed you must specify \n",
    "\n",
    "Look further into classes for python as a way to ammend the doc. Also the \"Raw data extraction\" is rather useless.\n",
    "\n",
    "The final version of the notebook should simply have the 4 files you wish to process, the conditions and also timings of the experiments. THIS SHOULD BE ALL. The outputs should be a graph where you can change which smoothing is applied and how data is normalised soas to generate the best fit. Results displaying loading etc should also be displayed. "
   ]
  }
 ],
 "metadata": {
  "kernelspec": {
   "display_name": "Python 3.9.12 ('base')",
   "language": "python",
   "name": "python3"
  },
  "language_info": {
   "codemirror_mode": {
    "name": "ipython",
    "version": 3
   },
   "file_extension": ".py",
   "mimetype": "text/x-python",
   "name": "python",
   "nbconvert_exporter": "python",
   "pygments_lexer": "ipython3",
   "version": "3.9.12"
  },
  "vscode": {
   "interpreter": {
    "hash": "2a301b26f62d3ab148c11899df5fa1ab60236781306080412e8bb935d0502808"
   }
  }
 },
 "nbformat": 4,
 "nbformat_minor": 4
}
